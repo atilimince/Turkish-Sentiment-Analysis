{
  "cells": [
    {
      "cell_type": "code",
      "execution_count": null,
      "metadata": {
        "id": "Nd6EXPwL8Yvo"
      },
      "outputs": [],
      "source": [
        "!pip install -q catboost\n",
        "!pip install -q SpeechRecognition\n",
        "!pip install -q wavio\n",
        "!pip install -q pydub\n",
        "#!pip install -q --upgrade google-api-python-client\n",
        "#!pip install -q google-colab"
      ]
    },
    {
      "cell_type": "code",
      "execution_count": null,
      "metadata": {
        "_cell_guid": "b1076dfc-b9ad-4769-8c92-a6c4dae69d19",
        "_uuid": "8f2839f25d086af736a60e9eeb907d3b93b6e0e5",
        "execution": {
          "iopub.execute_input": "2023-04-03T20:24:36.192319Z",
          "iopub.status.busy": "2023-04-03T20:24:36.191463Z",
          "iopub.status.idle": "2023-04-03T20:24:36.199718Z",
          "shell.execute_reply": "2023-04-03T20:24:36.198776Z",
          "shell.execute_reply.started": "2023-04-03T20:24:36.192273Z"
        },
        "id": "1oDZDKo97_17"
      },
      "outputs": [],
      "source": [
        "from IPython.display import HTML, Audio\n",
        "from google.colab.output import eval_js\n",
        "from base64 import b64decode\n",
        "from scipy.io.wavfile import write as wav_write\n",
        "import io\n",
        "import speech_recognition as sr\n",
        "import wavio\n",
        "from os import path\n",
        "from pydub import AudioSegment\n",
        "from IPython.display import HTML, Audio\n",
        "from google.colab.output import eval_js\n",
        "from base64 import b64decode\n",
        "from scipy.io.wavfile import write as wav_write\n",
        "import io\n",
        "import pandas as pd\n",
        "import re\n",
        "import numpy as np\n",
        "from matplotlib import pyplot as plt\n",
        "import seaborn as sns\n",
        "import tensorflow as tf\n",
        "from sklearn.model_selection import train_test_split\n",
        "from sklearn.metrics import confusion_matrix, classification_report, f1_score\n",
        "from sklearn.svm import SVC\n",
        "from sklearn.ensemble import RandomForestClassifier, GradientBoostingClassifier\n",
        "from tensorflow.keras.preprocessing.text import Tokenizer\n",
        "from tensorflow.keras.preprocessing.sequence import pad_sequences\n",
        "from tensorflow.keras.callbacks import EarlyStopping\n",
        "from sklearn.feature_extraction.text import TfidfVectorizer, CountVectorizer\n",
        "from sklearn.model_selection import train_test_split, StratifiedKFold, cross_val_score\n",
        "from google.colab import drive\n",
        "import warnings\n",
        "warnings.simplefilter(action='ignore', category=FutureWarning)\n",
        "pd.set_option('display.float_format', lambda x: '%.3f' % x)"
      ]
    },
    {
      "cell_type": "code",
      "execution_count": null,
      "metadata": {
        "id": "J8_xrr2uVmtd"
      },
      "outputs": [],
      "source": [
        "#drive.mount('/content/drive')"
      ]
    },
    {
      "cell_type": "markdown",
      "metadata": {
        "id": "YLVYHiXJ7_19"
      },
      "source": [
        "<a id='1'></a>\n",
        "# Data Load"
      ]
    },
    {
      "cell_type": "code",
      "execution_count": null,
      "metadata": {
        "execution": {
          "iopub.execute_input": "2023-04-03T20:24:41.32118Z",
          "iopub.status.busy": "2023-04-03T20:24:41.320731Z",
          "iopub.status.idle": "2023-04-03T20:24:41.446158Z",
          "shell.execute_reply": "2023-04-03T20:24:41.445246Z",
          "shell.execute_reply.started": "2023-04-03T20:24:41.321131Z"
        },
        "id": "2EumM2la7_19"
      },
      "outputs": [],
      "source": [
        "df = pd.read_csv(\"/content/magaza_yorumlari.csv\",encoding = \"utf-16\")\n",
        "df.head()"
      ]
    },
    {
      "cell_type": "markdown",
      "metadata": {
        "id": "rpNa7WGF7_19"
      },
      "source": [
        "<a id='2'></a>\n",
        "# Data Preprocessing"
      ]
    },
    {
      "cell_type": "code",
      "execution_count": null,
      "metadata": {
        "execution": {
          "iopub.execute_input": "2023-04-03T20:24:44.834685Z",
          "iopub.status.busy": "2023-04-03T20:24:44.834156Z",
          "iopub.status.idle": "2023-04-03T20:24:45.153435Z",
          "shell.execute_reply": "2023-04-03T20:24:45.152439Z",
          "shell.execute_reply.started": "2023-04-03T20:24:44.83463Z"
        },
        "id": "tM9xMsxs7_19"
      },
      "outputs": [],
      "source": [
        "sns.countplot(x = df.Durum);"
      ]
    },
    {
      "cell_type": "code",
      "execution_count": null,
      "metadata": {
        "execution": {
          "iopub.execute_input": "2023-04-03T20:24:49.270031Z",
          "iopub.status.busy": "2023-04-03T20:24:49.269602Z",
          "iopub.status.idle": "2023-04-03T20:24:49.292396Z",
          "shell.execute_reply": "2023-04-03T20:24:49.291554Z",
          "shell.execute_reply.started": "2023-04-03T20:24:49.269995Z"
        },
        "id": "aoyHVGVs7_1-"
      },
      "outputs": [],
      "source": [
        "sent_dict = {'Olumsuz': 0, 'Olumlu': 1}\n",
        "df['Durum'] = df['Durum'].map(sent_dict)\n",
        "df.head()"
      ]
    },
    {
      "cell_type": "code",
      "execution_count": null,
      "metadata": {
        "execution": {
          "iopub.execute_input": "2023-04-03T20:24:53.201677Z",
          "iopub.status.busy": "2023-04-03T20:24:53.2013Z",
          "iopub.status.idle": "2023-04-03T20:24:53.276449Z",
          "shell.execute_reply": "2023-04-03T20:24:53.275404Z",
          "shell.execute_reply.started": "2023-04-03T20:24:53.201646Z"
        },
        "id": "_wwN5Aju7_1-"
      },
      "outputs": [],
      "source": [
        "def clean_text(text):\n",
        "\n",
        "    unwanted_pattern = r'[!.\\n,:“”,?@#\"]'\n",
        "    regex = re.compile(unwanted_pattern)\n",
        "    cleaned_text = regex.sub(\" \", text)\n",
        "    \n",
        "    return cleaned_text\n",
        "\n",
        "df['new_text'] = df['Görüş'].astype(str).apply(clean_text)\n",
        "df['new_text'] = df['new_text'].str.replace(\"[\\d]\", \"\")\n",
        "df['new_text'] = df['new_text'].str.lower()\n",
        "df"
      ]
    },
    {
      "cell_type": "code",
      "execution_count": null,
      "metadata": {
        "execution": {
          "iopub.execute_input": "2023-04-03T20:24:56.731571Z",
          "iopub.status.busy": "2023-04-03T20:24:56.731191Z",
          "iopub.status.idle": "2023-04-03T20:24:56.749528Z",
          "shell.execute_reply": "2023-04-03T20:24:56.748449Z",
          "shell.execute_reply.started": "2023-04-03T20:24:56.731539Z"
        },
        "id": "6nSde0027_1-"
      },
      "outputs": [],
      "source": [
        "df = df.dropna()\n",
        "df.isna().sum()"
      ]
    },
    {
      "cell_type": "code",
      "execution_count": null,
      "metadata": {
        "execution": {
          "iopub.execute_input": "2023-04-03T20:24:59.425029Z",
          "iopub.status.busy": "2023-04-03T20:24:59.424424Z",
          "iopub.status.idle": "2023-04-03T20:25:00.361387Z",
          "shell.execute_reply": "2023-04-03T20:25:00.360512Z",
          "shell.execute_reply.started": "2023-04-03T20:24:59.424996Z"
        },
        "id": "lyG5dVE97_1_"
      },
      "outputs": [],
      "source": [
        "import nltk\n",
        "nltk.download('stopwords')\n",
        "from nltk.corpus import stopwords\n",
        "ineffective = stopwords.words('turkish')\n",
        "ineffective[:5]"
      ]
    },
    {
      "cell_type": "code",
      "execution_count": null,
      "metadata": {
        "execution": {
          "iopub.execute_input": "2023-04-03T20:25:03.043636Z",
          "iopub.status.busy": "2023-04-03T20:25:03.043233Z",
          "iopub.status.idle": "2023-04-03T20:25:03.230158Z",
          "shell.execute_reply": "2023-04-03T20:25:03.229312Z",
          "shell.execute_reply.started": "2023-04-03T20:25:03.043605Z"
        },
        "id": "TPovRjhG7_1_"
      },
      "outputs": [],
      "source": [
        "df['new_text'] = df['new_text'].apply(lambda x: \" \".join(x for x in x.split() if x not in ineffective))\n",
        "df.head()"
      ]
    },
    {
      "cell_type": "code",
      "execution_count": null,
      "metadata": {
        "execution": {
          "iopub.execute_input": "2023-04-03T20:25:06.509681Z",
          "iopub.status.busy": "2023-04-03T20:25:06.509308Z",
          "iopub.status.idle": "2023-04-03T20:25:07.056055Z",
          "shell.execute_reply": "2023-04-03T20:25:07.055053Z",
          "shell.execute_reply.started": "2023-04-03T20:25:06.509651Z"
        },
        "id": "EROxBhYD7_1_"
      },
      "outputs": [],
      "source": [
        "X_train, X_test, y_train, y_test = train_test_split(df['new_text'], df['Durum'], test_size=0.2, random_state=42)\n",
        "\n",
        "tf_vector = TfidfVectorizer(max_features =  5000)\n",
        "ct_vector = CountVectorizer(max_features = 5000)\n",
        "#X = tf_vector.fit_transform(df['new_text'])\n",
        "#Y = df['sentiment']\n",
        "X_train_vec = tf_vector.fit_transform(X_train)\n",
        "X_test_vec = tf_vector.transform(X_test)\n",
        "X_train_ct = ct_vector.fit_transform(X_train)\n",
        "X_test_ct = ct_vector.transform(X_test)"
      ]
    },
    {
      "cell_type": "markdown",
      "metadata": {
        "id": "5DrpnlFC7_1_"
      },
      "source": [
        "<a id='3'></a>\n",
        "# Machine Learning Model"
      ]
    },
    {
      "cell_type": "markdown",
      "metadata": {
        "id": "m80kMBc-7_2A"
      },
      "source": [
        "<a id='3.2'></a>\n",
        "### Support Vector Machine"
      ]
    },
    {
      "cell_type": "code",
      "execution_count": null,
      "metadata": {
        "id": "Ns2pK-dScoHq"
      },
      "outputs": [],
      "source": [
        "def evaluate_model(model, X_test, y_test):\n",
        "    y_pred = model.predict(X_test)\n",
        "    cm = confusion_matrix(y_test, y_pred)\n",
        "    sns.heatmap(cm, annot=True, cbar=False, fmt=\".4g\")\n",
        "    plt.show()\n",
        "    print(classification_report(y_test, y_pred))\n",
        "    \n",
        "result = pd.DataFrame(columns=['TF_Vectorizer_accuracy', 'Count_Vectorizer_accuracy', 'Model'])"
      ]
    },
    {
      "cell_type": "code",
      "execution_count": null,
      "metadata": {
        "execution": {
          "iopub.execute_input": "2023-04-03T20:25:28.315507Z",
          "iopub.status.busy": "2023-04-03T20:25:28.31313Z",
          "iopub.status.idle": "2023-04-03T20:25:34.719738Z",
          "shell.execute_reply": "2023-04-03T20:25:34.71631Z",
          "shell.execute_reply.started": "2023-04-03T20:25:28.31543Z"
        },
        "id": "SYaEe-Ss7_2A"
      },
      "outputs": [],
      "source": [
        "svc_tf = SVC()\n",
        "svc_tf.fit(X_train_vec, y_train)\n",
        "evaluate_model(svc_tf, X_test_vec, y_test)"
      ]
    },
    {
      "cell_type": "code",
      "execution_count": null,
      "metadata": {
        "execution": {
          "iopub.execute_input": "2023-04-03T20:25:38.12122Z",
          "iopub.status.busy": "2023-04-03T20:25:38.120857Z",
          "iopub.status.idle": "2023-04-03T20:25:46.186641Z",
          "shell.execute_reply": "2023-04-03T20:25:46.185548Z",
          "shell.execute_reply.started": "2023-04-03T20:25:38.12119Z"
        },
        "id": "LIsG5gJe7_2A"
      },
      "outputs": [],
      "source": [
        "svc_ct = SVC()\n",
        "svc_ct.fit(X_train_ct, y_train)\n",
        "evaluate_model(svc_ct, X_test_ct, y_test)\n",
        "result = result.append({\n",
        "                'Model': 'Support Vector Machine',\n",
        "                'Count_Vectorizer_accuracy':svc_ct .score(X_test_ct, y_test),\n",
        "                'TF_Vectorizer_accuracy': svc_tf.score(X_test_vec, y_test)},\n",
        "                ignore_index=True)\n",
        "result"
      ]
    },
    {
      "cell_type": "code",
      "execution_count": null,
      "metadata": {
        "id": "gD8lxc9TVSQF"
      },
      "outputs": [],
      "source": [
        "# files                                                                         \n",
        "src = \"/content/common_voice_tr_36558001.mp3\"\n",
        "dst = \"test.wav\"\n",
        "\n",
        "# convert wav to mp3                                                            \n",
        "sound = AudioSegment.from_mp3(src)\n",
        "sound.export(dst, format=\"wav\")"
      ]
    },
    {
      "cell_type": "code",
      "execution_count": null,
      "metadata": {
        "id": "4IHmog5HVVoH"
      },
      "outputs": [],
      "source": [
        "#recognizer sınıfının tanıtılması\n",
        "sesi_tani = sr.Recognizer()\n",
        "\n",
        "# %%\n",
        "#Kayıdın okutulması\n",
        "with sr.AudioFile('/content/test.wav') as kaynak:\n",
        "\n",
        "    ses_metni = sesi_tani.listen(kaynak)\n",
        "\n",
        "    try:\n",
        "        # Google ses tanıma servisini kullan\n",
        "        textedvoice = sesi_tani.recognize_google(ses_metni, language = \"tr-TR\")\n",
        "        print('Ses metni:')\n",
        "        print(textedvoice)\n",
        "\n",
        "    except:\n",
        "         print('Bir hata oluştu, üzgünüm.')"
      ]
    },
    {
      "cell_type": "code",
      "execution_count": null,
      "metadata": {
        "execution": {
          "iopub.execute_input": "2023-04-03T20:35:24.833173Z",
          "iopub.status.busy": "2023-04-03T20:35:24.832819Z",
          "iopub.status.idle": "2023-04-03T20:37:00.957427Z",
          "shell.execute_reply": "2023-04-03T20:37:00.956453Z",
          "shell.execute_reply.started": "2023-04-03T20:35:24.833136Z"
        },
        "id": "wEIOm-PU7_2G"
      },
      "outputs": [],
      "source": [
        "predict_dict = {0: 'Olumsuz', 1: 'Olumlu'}\n",
        "\n",
        "text = str(textedvoice)\n",
        "\n",
        "ml_token = tf_vector.transform([text])\n",
        "pred_ml = svc_tf.predict(ml_token)[0]\n",
        "\n",
        "print(f'Makine Öğrenmesi Tahmini / Machine Learning Predict = > {predict_dict[pred_ml]}')\n"
      ]
    }
  ],
  "metadata": {
    "accelerator": "GPU",
    "colab": {
      "gpuType": "T4",
      "provenance": []
    },
    "kernelspec": {
      "display_name": "Python 3 (ipykernel)",
      "language": "python",
      "name": "python3"
    },
    "language_info": {
      "codemirror_mode": {
        "name": "ipython",
        "version": 3
      },
      "file_extension": ".py",
      "mimetype": "text/x-python",
      "name": "python",
      "nbconvert_exporter": "python",
      "pygments_lexer": "ipython3",
      "version": "3.9.13"
    }
  },
  "nbformat": 4,
  "nbformat_minor": 0
}